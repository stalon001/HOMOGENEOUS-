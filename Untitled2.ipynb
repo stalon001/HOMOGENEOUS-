{
 "cells": [
  {
   "cell_type": "code",
   "execution_count": 1,
   "id": "c6326fd0",
   "metadata": {},
   "outputs": [],
   "source": [
    "import numpy as np\n",
    "import pandas as pd\n",
    "from sklearn.ensemble import RandomForestClassifier\n",
    "from sklearn.ensemble import GradientBoostingClassifier\n",
    "from sklearn.svm import SVC\n",
    "from sklearn.model_selection import train_test_split"
   ]
  },
  {
   "cell_type": "code",
   "execution_count": 4,
   "id": "0e0a398b",
   "metadata": {},
   "outputs": [],
   "source": [
    "churn_data = pd.read_csv(\"Churn_Modelling (3).csv\")\n",
    "insurance_data = pd.read_csv(\"insurance (1).csv\")"
   ]
  },
  {
   "cell_type": "code",
   "execution_count": 6,
   "id": "b1d2fc52",
   "metadata": {},
   "outputs": [
    {
     "ename": "NameError",
     "evalue": "name 'Churn_Modelling' is not defined",
     "output_type": "error",
     "traceback": [
      "\u001b[1;31m---------------------------------------------------------------------------\u001b[0m",
      "\u001b[1;31mNameError\u001b[0m                                 Traceback (most recent call last)",
      "Cell \u001b[1;32mIn[6], line 1\u001b[0m\n\u001b[1;32m----> 1\u001b[0m churn_X \u001b[38;5;241m=\u001b[39m \u001b[43mChurn_Modelling\u001b[49m \u001b[38;5;241m.\u001b[39mdrop(columns \u001b[38;5;241m=\u001b[39m \u001b[38;5;124m'\u001b[39m\u001b[38;5;124mChurn\u001b[39m\u001b[38;5;124m'\u001b[39m)\n\u001b[0;32m      2\u001b[0m churn_y \u001b[38;5;241m=\u001b[39m Churn_Modelling [\u001b[38;5;124m'\u001b[39m\u001b[38;5;124mChurn\u001b[39m\u001b[38;5;124m'\u001b[39m]\n",
      "\u001b[1;31mNameError\u001b[0m: name 'Churn_Modelling' is not defined"
     ]
    }
   ],
   "source": [
    "churn_X = Churn_Modelling .drop(columns = 'Churn')\n",
    "churn_y = Churn_Modelling ['Churn']"
   ]
  },
  {
   "cell_type": "code",
   "execution_count": null,
   "id": "6403e2ae",
   "metadata": {},
   "outputs": [],
   "source": []
  }
 ],
 "metadata": {
  "kernelspec": {
   "display_name": "Python 3 (ipykernel)",
   "language": "python",
   "name": "python3"
  },
  "language_info": {
   "codemirror_mode": {
    "name": "ipython",
    "version": 3
   },
   "file_extension": ".py",
   "mimetype": "text/x-python",
   "name": "python",
   "nbconvert_exporter": "python",
   "pygments_lexer": "ipython3",
   "version": "3.11.2"
  }
 },
 "nbformat": 4,
 "nbformat_minor": 5
}
